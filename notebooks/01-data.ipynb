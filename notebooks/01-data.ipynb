{
 "cells": [
  {
   "cell_type": "code",
   "execution_count": null,
   "metadata": {},
   "outputs": [],
   "source": [
    "import autorootcwd  # Find project root and change working directory\n",
    "import matplotlib.pyplot as plt\n",
    "import numpy as np\n",
    "import torch\n",
    "import torchvision\n",
    "from torchvision import transforms\n",
    "\n",
    "from src.data.mnist_datamodule import MNISTDataModule\n",
    "\n",
    "%load_ext autoreload\n",
    "%autoreload 2"
   ]
  },
  {
   "cell_type": "code",
   "execution_count": null,
   "metadata": {},
   "outputs": [],
   "source": [
    "dm = MNISTDataModule(num_workers=8, transforms=None)\n",
    "dm.setup(\"fit\")\n",
    "dataloader = dm.train_dataloader()\n",
    "dataset = dataloader.dataset\n",
    "\n",
    "# Visualize some examples\n",
    "fig, axs = plt.subplots(1, 4)\n",
    "for i in range(4):\n",
    "    img, label = dataset[i]\n",
    "    img = np.asarray(img)\n",
    "    if i == 0:\n",
    "        np.set_printoptions(linewidth=200)\n",
    "        print(img)\n",
    "    axs[i].imshow(img, cmap=\"gray\")\n",
    "    axs[i].tick_params(left=False, bottom=False, labelleft=False, labelbottom=False)\n",
    "    axs[i].set_xlabel(label)\n",
    "plt.show()"
   ]
  },
  {
   "cell_type": "code",
   "execution_count": null,
   "metadata": {},
   "outputs": [],
   "source": []
  }
 ],
 "metadata": {
  "kernelspec": {
   "display_name": "genai",
   "language": "python",
   "name": "python3"
  },
  "language_info": {
   "codemirror_mode": {
    "name": "ipython",
    "version": 3
   },
   "file_extension": ".py",
   "mimetype": "text/x-python",
   "name": "python",
   "nbconvert_exporter": "python",
   "pygments_lexer": "ipython3",
   "version": "3.10.13"
  }
 },
 "nbformat": 4,
 "nbformat_minor": 2
}
