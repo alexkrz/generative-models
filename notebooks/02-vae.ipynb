{
 "cells": [
  {
   "cell_type": "code",
   "execution_count": null,
   "metadata": {},
   "outputs": [],
   "source": [
    "import autorootcwd  # Find project root and change working directory\n",
    "import matplotlib.pyplot as plt\n",
    "import torch\n",
    "import torch.nn as nn\n",
    "import torch.nn.functional as F\n",
    "from mpl_toolkits.axes_grid1 import ImageGrid\n",
    "\n",
    "from src.data.mnist_datamodule import MNISTDataModule\n",
    "from src.models.vae_components.vanilla_vae import VAE\n",
    "from src.models.vae_module import VAEModule\n",
    "\n",
    "%load_ext autoreload\n",
    "%autoreload 2"
   ]
  },
  {
   "cell_type": "code",
   "execution_count": null,
   "metadata": {},
   "outputs": [],
   "source": [
    "device = torch.device(\"cuda\" if torch.cuda.is_available() else \"cpu\")\n",
    "dm = MNISTDataModule(num_workers=0, transform=\"default\")\n",
    "model = VAE(input_dim=784, hidden_dim=400, latent_dim=200)\n",
    "\n",
    "# pl_module = VAEModule(model, lr=0.001)\n",
    "# Implement training routine myself\n",
    "dm.setup(\"fit\")\n",
    "model.to(device)\n",
    "optimizer = torch.optim.Adam(model.parameters(), lr=0.001)"
   ]
  },
  {
   "cell_type": "code",
   "execution_count": null,
   "metadata": {},
   "outputs": [],
   "source": [
    "# Test dataloader\n",
    "dataiter = iter(dm.train_dataloader())\n",
    "batch = next(dataiter)\n",
    "\n",
    "num_samples = 25\n",
    "sample_images = [batch[0][i, 0] for i in range(num_samples)]\n",
    "\n",
    "fig = plt.figure(figsize=(5, 5))\n",
    "grid = ImageGrid(fig, 111, nrows_ncols=(5, 5), axes_pad=0.1)\n",
    "\n",
    "for ax, im in zip(grid, sample_images):\n",
    "    ax.imshow(im, cmap=\"gray\")\n",
    "    ax.axis(\"off\")\n",
    "\n",
    "plt.show()"
   ]
  },
  {
   "cell_type": "code",
   "execution_count": null,
   "metadata": {},
   "outputs": [],
   "source": [
    "# Define training routine\n",
    "\n",
    "\n",
    "def loss_function(x, x_hat, mean, log_var):\n",
    "    # Loss function from https://github.com/AntixK/PyTorch-VAE/blob/master/models/vanilla_vae.py\n",
    "    recons_loss = nn.functional.mse_loss(x_hat, x)\n",
    "    kld_loss = torch.mean(-0.5 * torch.sum(1 + log_var - mean**2 - log_var.exp(), dim=1), dim=0)\n",
    "\n",
    "    return recons_loss + kld_loss\n",
    "\n",
    "\n",
    "def train(model, optimizer, epochs, device):\n",
    "    model.train()\n",
    "    for epoch in range(epochs):\n",
    "        overall_loss = 0\n",
    "        for batch_idx, (x, _) in enumerate(dm.train_dataloader()):\n",
    "            N, C, H, W = x.size()\n",
    "            x = x.reshape(N, -1)\n",
    "            x = x.to(device)\n",
    "\n",
    "            optimizer.zero_grad()\n",
    "\n",
    "            x_hat, mean, log_var = model(x)\n",
    "            loss = loss_function(x, x_hat, mean, log_var)\n",
    "\n",
    "            overall_loss += loss.item()\n",
    "\n",
    "            loss.backward()\n",
    "            optimizer.step()\n",
    "\n",
    "        print(\"\\tEpoch\", epoch + 1, \"\\tAverage Loss: \", overall_loss / (batch_idx * N))\n",
    "    return overall_loss\n",
    "\n",
    "\n",
    "train(model, optimizer, epochs=10, device=device)"
   ]
  },
  {
   "cell_type": "code",
   "execution_count": null,
   "metadata": {},
   "outputs": [],
   "source": [
    "model"
   ]
  },
  {
   "cell_type": "code",
   "execution_count": null,
   "metadata": {},
   "outputs": [],
   "source": []
  }
 ],
 "metadata": {
  "kernelspec": {
   "display_name": "genai",
   "language": "python",
   "name": "python3"
  },
  "language_info": {
   "codemirror_mode": {
    "name": "ipython",
    "version": 3
   },
   "file_extension": ".py",
   "mimetype": "text/x-python",
   "name": "python",
   "nbconvert_exporter": "python",
   "pygments_lexer": "ipython3",
   "version": "3.10.13"
  }
 },
 "nbformat": 4,
 "nbformat_minor": 2
}
